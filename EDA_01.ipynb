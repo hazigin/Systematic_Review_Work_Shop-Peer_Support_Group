{
 "cells": [
  {
   "cell_type": "code",
   "execution_count": 1,
   "id": "sexual-occupation",
   "metadata": {},
   "outputs": [],
   "source": [
    "import os\n",
    "import numpy as np\n",
    "import pandas as pd\n",
    "import pandas_profiling as pdp\n",
    "import matplotlib.pyplot as plt\n",
    "import seaborn as sns\n",
    "from glob import glob\n",
    "sns.set(context='notebook', style='darkgrid', palette='deep', font='sans-serif', font_scale=1, color_codes=False, rc=None)"
   ]
  },
  {
   "cell_type": "code",
   "execution_count": null,
   "id": "ethical-nelson",
   "metadata": {},
   "outputs": [],
   "source": [
    "paths = glob(\"/home/nishika_lithium_ion/data/train/*.csv\")\n",
    "paths.sort()\n",
    "train_dfs = pd.DataFrame()\n",
    "for path in paths:\n",
    "    train_dfs = pd.concat([train_dfs,pd.read_csv(path)],axis=0)"
   ]
  },
  {
   "cell_type": "code",
   "execution_count": null,
   "metadata": {},
   "outputs": [],
   "source": []
  }
 ],
 "metadata": {
  "kernelspec": {
   "name": "python3710jvsc74a57bd098b0a9b7b4eaaa670588a142fd0a9b87eaafe866f1db4228be72b4211d12040f",
   "display_name": "Python 3.7.10 64-bit ('base': conda)"
  },
  "language_info": {
   "codemirror_mode": {
    "name": "ipython",
    "version": 3
   },
   "file_extension": ".py",
   "mimetype": "text/x-python",
   "name": "python",
   "nbconvert_exporter": "python",
   "pygments_lexer": "ipython3",
   "version": "3.7.10"
  }
 },
 "nbformat": 4,
 "nbformat_minor": 5
}